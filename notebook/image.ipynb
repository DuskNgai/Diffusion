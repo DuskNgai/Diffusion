{
 "cells": [
  {
   "cell_type": "code",
   "execution_count": null,
   "metadata": {},
   "outputs": [],
   "source": [
    "import os\n",
    "from pathlib import Path\n",
    "\n",
    "os.environ[\"HF_ENDPOINT\"] = \"https://hf-mirror.com\"\n",
    "os.environ[\"HF_HOME\"] = str(Path.cwd().joinpath(\"cache\"))"
   ]
  },
  {
   "cell_type": "markdown",
   "metadata": {},
   "source": [
    "# Test Model and Scheduler by EDM Model"
   ]
  },
  {
   "cell_type": "code",
   "execution_count": null,
   "metadata": {},
   "outputs": [],
   "source": [
    "from pathlib import Path\n",
    "import sys\n",
    "\n",
    "from IPython import get_ipython\n",
    "import matplotlib.pyplot as plt\n",
    "import torch\n",
    "\n",
    "sys.path.append(Path(get_ipython().run_line_magic(\"pwd\", \"\")).resolve().parent.as_posix())\n",
    "\n",
    "from coach_pl.configuration import CfgNode\n",
    "from coach_pl.model import load_pretrained\n",
    "from diffusion.model import GeneralContinuousTimeDiffusion, build_backbone\n",
    "from image import UnconditionalGenerationPipeline\n",
    "from sampler import SAMPLER_FORMULATION_TABLE, GeneralContinuousTimeDiffusionScheduler"
   ]
  },
  {
   "cell_type": "code",
   "execution_count": null,
   "metadata": {},
   "outputs": [],
   "source": [
    "FORMULATION = SAMPLER_FORMULATION_TABLE[\"EDM\"]\n",
    "\n",
    "cfg = CfgNode.load_yaml_with_base(\"edm.yaml\")"
   ]
  },
  {
   "cell_type": "code",
   "execution_count": null,
   "metadata": {},
   "outputs": [],
   "source": [
    "pipeline = UnconditionalGenerationPipeline(\n",
    "    GeneralContinuousTimeDiffusion(\n",
    "        build_backbone(cfg),\n",
    "        cfg.MODEL.PREDICTION_TYPE,\n",
    "        cfg.MODEL.SIGMA_DATA,\n",
    "        cfg.MODEL.REQUIRE_PRE_AND_POST_PROCESSING,\n",
    "    ).eval(),\n",
    "    GeneralContinuousTimeDiffusionScheduler(\n",
    "        t_min=0.002,\n",
    "        t_max=80.0,\n",
    "        sigma_data=0.5,\n",
    "        scale_fn=FORMULATION[\"scale_fn\"],\n",
    "        sigma_fn=FORMULATION[\"sigma_fn\"],\n",
    "        nsr_inv_fn=FORMULATION[\"nsr_inv_fn\"],\n",
    "        prediction_type=\"sample\",\n",
    "        algorithm_type=\"ode\",\n",
    "        timestep_schedule=\"power_lognsr\"\n",
    "    )\n",
    ")\n",
    "# TODO: Load the model using from_pretrained\n",
    "pipeline.model = load_pretrained(pipeline.model, \"../output/edm_sample_cifar/regular_ckpts/last.ckpt\")\n",
    "if torch.cuda.is_available():\n",
    "    pipeline = pipeline.to(device=torch.device(\"cuda\"))"
   ]
  },
  {
   "cell_type": "code",
   "execution_count": null,
   "metadata": {},
   "outputs": [],
   "source": [
    "seed = 0\n",
    "grid_size = 8\n",
    "batch_size = grid_size * grid_size\n",
    "num_inference_steps = 32"
   ]
  },
  {
   "cell_type": "code",
   "execution_count": null,
   "metadata": {},
   "outputs": [],
   "source": [
    "torch.manual_seed(seed)\n",
    "torch.cuda.manual_seed(seed)\n",
    "\n",
    "samples = pipeline(batch_size=batch_size, num_inference_steps=num_inference_steps)\n",
    "samples = (samples * 127.5 + 128).detach().clip(0, 255).byte().cpu().numpy()"
   ]
  },
  {
   "cell_type": "code",
   "execution_count": null,
   "metadata": {},
   "outputs": [],
   "source": [
    "plt.figure(figsize=(grid_size, grid_size))\n",
    "image = samples.transpose(0, 2, 3, 1).reshape((grid_size, grid_size, 32, 32, 3)).transpose(0, 2, 1, 3, 4).reshape(32 * grid_size, 32 * grid_size, 3)\n",
    "plt.imshow(image)\n",
    "plt.axis(\"off\")\n",
    "plt.show()"
   ]
  }
 ],
 "metadata": {
  "kernelspec": {
   "display_name": "diffusion",
   "language": "python",
   "name": "python3"
  },
  "language_info": {
   "codemirror_mode": {
    "name": "ipython",
    "version": 3
   },
   "file_extension": ".py",
   "mimetype": "text/x-python",
   "name": "python",
   "nbconvert_exporter": "python",
   "pygments_lexer": "ipython3",
   "version": "3.11.9"
  }
 },
 "nbformat": 4,
 "nbformat_minor": 2
}
