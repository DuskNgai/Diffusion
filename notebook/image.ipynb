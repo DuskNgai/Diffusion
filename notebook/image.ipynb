{
    "cells": [
        {
            "cell_type": "code",
            "execution_count": null,
            "metadata": {},
            "outputs": [],
            "source": [
                "import os\n",
                "from pathlib import Path\n",
                "\n",
                "os.environ[\"HF_ENDPOINT\"] = \"https://hf-mirror.com\"\n",
                "os.environ[\"HF_HOME\"] = str(Path.cwd().joinpath(\"cache\"))"
            ]
        },
        {
            "cell_type": "markdown",
            "metadata": {},
            "source": [
                "# Test Model and Scheduler by EDM Model"
            ]
        },
        {
            "cell_type": "code",
            "execution_count": null,
            "metadata": {},
            "outputs": [],
            "source": [
                "from pathlib import Path\n",
                "import sys\n",
                "\n",
                "from diffusers.utils import make_image_grid\n",
                "from IPython import get_ipython\n",
                "from IPython.display import display\n",
                "from PIL import Image\n",
                "import torch\n",
                "\n",
                "sys.path.append(Path(get_ipython().run_line_magic(\"pwd\", \"\")).resolve().parent.as_posix())\n",
                "\n",
                "from coach_pl.configuration import CfgNode\n",
                "from coach_pl.model import build_model, load_pretrained\n",
                "\n",
                "from diffusion.model import EDMNoiseScheduler, RectifiedFlowNoiseScheduler\n",
                "from image import UnconditionalGenerationPipeline"
            ]
        },
        {
            "cell_type": "code",
            "execution_count": null,
            "metadata": {},
            "outputs": [],
            "source": [
                "def draw_inference_result(\n",
                "    pipeline: UnconditionalGenerationPipeline,\n",
                "    grid_size: int,\n",
                "    num_inference_steps: int,\n",
                "    seed: int\n",
                "):   \n",
                "    torch.manual_seed(seed)\n",
                "    torch.cuda.manual_seed(seed)\n",
                "\n",
                "    batch_size = grid_size ** 2\n",
                "    samples = pipeline(batch_size=batch_size, num_inference_steps=num_inference_steps)\n",
                "    samples = (samples * 127.5 + 128).detach().clip(0, 255).byte().cpu().numpy()\n",
                "    images = samples.transpose(0, 2, 3, 1)\n",
                "    images = list(Image.fromarray(image) for image in images)\n",
                "    display(make_image_grid(images, grid_size, grid_size))"
            ]
        },
        {
            "cell_type": "code",
            "execution_count": null,
            "metadata": {},
            "outputs": [],
            "source": [
                "seed = 0\n",
                "grid_size = 8\n",
                "num_inference_steps = 32"
            ]
        },
        {
            "cell_type": "code",
            "execution_count": null,
            "metadata": {},
            "outputs": [],
            "source": [
                "cfg = CfgNode.load_yaml_with_base(\"image.yaml\")\n",
                "CfgNode.set_readonly(cfg, True)"
            ]
        },
        {
            "cell_type": "markdown",
            "metadata": {},
            "source": [
                "## Test Rectified Flow's Formulation"
            ]
        },
        {
            "cell_type": "code",
            "execution_count": null,
            "metadata": {},
            "outputs": [],
            "source": [
                "pipeline = UnconditionalGenerationPipeline(\n",
                "    build_model(cfg).eval(),\n",
                "    RectifiedFlowNoiseScheduler(\n",
                "        t_min=0.0001,\n",
                "        t_max=0.9999,\n",
                "        sigma_data=cfg.MODEL.SIGMA_DATA,\n",
                "        prediction_type=\"velocity\",\n",
                "        algorithm_type=\"ode\",\n",
                "        timestep_schedule=\"linear_lognsr\"\n",
                "    )\n",
                ")\n",
                "pipeline.model = load_pretrained(pipeline.model, \"../output/rf_velocity_unet_cifar/regular_ckpts/last.ckpt\")\n",
                "if torch.cuda.is_available():\n",
                "    pipeline = pipeline.to(device=torch.device(\"cuda\"))"
            ]
        },
        {
            "cell_type": "code",
            "execution_count": null,
            "metadata": {},
            "outputs": [],
            "source": [
                "draw_inference_result(pipeline, grid_size, num_inference_steps, seed)"
            ]
        },
        {
            "cell_type": "markdown",
            "metadata": {},
            "source": [
                "## Test EDM's Formulation"
            ]
        },
        {
            "cell_type": "code",
            "execution_count": null,
            "metadata": {},
            "outputs": [],
            "source": [
                "pipeline = UnconditionalGenerationPipeline(\n",
                "    build_model(cfg).eval(),\n",
                "    EDMNoiseScheduler(\n",
                "        t_min=0.002,\n",
                "        t_max=80.0,\n",
                "        sigma_data=cfg.MODEL.SIGMA_DATA,\n",
                "        prediction_type=\"sample\",\n",
                "        algorithm_type=\"ode\",\n",
                "        timestep_schedule=\"linear_lognsr\"\n",
                "    )\n",
                ")\n",
                "pipeline.model = load_pretrained(pipeline.model, \"../output/edm_sample_unet_cifar/regular_ckpts/last.ckpt\")\n",
                "if torch.cuda.is_available():\n",
                "    pipeline = pipeline.to(device=torch.device(\"cuda\"))"
            ]
        },
        {
            "cell_type": "code",
            "execution_count": null,
            "metadata": {},
            "outputs": [],
            "source": [
                "draw_inference_result(pipeline, grid_size, num_inference_steps, seed)"
            ]
        }
    ],
    "metadata": {
        "kernelspec": {
            "display_name": "diffusion",
            "language": "python",
            "name": "python3"
        },
        "language_info": {
            "codemirror_mode": {
                "name": "ipython",
                "version": 3
            },
            "file_extension": ".py",
            "mimetype": "text/x-python",
            "name": "python",
            "nbconvert_exporter": "python",
            "pygments_lexer": "ipython3",
            "version": "3.11.9"
        }
    },
    "nbformat": 4,
    "nbformat_minor": 2
}
