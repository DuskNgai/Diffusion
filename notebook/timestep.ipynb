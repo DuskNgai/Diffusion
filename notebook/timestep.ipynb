{
 "cells": [
  {
   "cell_type": "code",
   "execution_count": null,
   "metadata": {},
   "outputs": [],
   "source": [
    "from pathlib import Path\n",
    "import sys\n",
    "\n",
    "sys.path.append(Path.cwd().resolve().parent.as_posix())\n",
    "\n",
    "import matplotlib.pyplot as plt\n",
    "import numpy as np\n",
    "\n",
    "from sampler import SAMPLER_FORMULATION_TABLE"
   ]
  },
  {
   "cell_type": "code",
   "execution_count": null,
   "metadata": {},
   "outputs": [],
   "source": [
    "def draw_inference_timesteps(\n",
    "    t_min: float,\n",
    "    t_max: float,\n",
    "    formulation: str\n",
    ") -> None:\n",
    "    t = np.linspace(0, 1, 1000)\n",
    "    t_inverted = 1 - t\n",
    "\n",
    "    scale = SAMPLER_FORMULATION_TABLE[formulation][\"scale_fn\"]\n",
    "    sigma = SAMPLER_FORMULATION_TABLE[formulation][\"sigma_fn\"]\n",
    "    nsr_inv = SAMPLER_FORMULATION_TABLE[formulation][\"nsr_inv_fn\"]\n",
    "\n",
    "    nsr_min = sigma(t_min) / scale(t_min)\n",
    "    nsr_max = sigma(t_max) / scale(t_max)\n",
    "\n",
    "    formulations = {\n",
    "        \"Linear LogNSR\": np.exp(np.log(nsr_max) + (np.log(nsr_min) - np.log(nsr_max)) * t),\n",
    "        \"Cosine LogNSR\": np.tan(np.arctan(nsr_max) + (np.arctan(nsr_min) - np.arctan(nsr_max)) * t),\n",
    "        \"Cosine Square LogNSR\": np.square(np.tan(np.arctan(np.sqrt(nsr_max)) + (np.arctan(np.sqrt(nsr_min)) - np.arctan(np.sqrt(nsr_max))) * t)),\n",
    "    }\n",
    "    for rho in range(1, 8):\n",
    "        formulations[rf\"EDM $\\rho = {rho}$\"] = (nsr_max ** (1 / rho) + (nsr_min ** (1 / rho) - nsr_max ** (1 / rho)) * t) ** rho\n",
    "\n",
    "    colors = plt.cm.jet(np.linspace(0, 1, len(formulations)))\n",
    "\n",
    "    plt.figure(figsize=(15, 6))\n",
    "\n",
    "    plt.subplot(1, 2, 1)\n",
    "    for i, (label, formulation_data) in enumerate(formulations.items()):\n",
    "        plt.plot(t_inverted, formulation_data, label=label, color=colors[i])\n",
    "    plt.xlabel(\"Normalized Timesteps\")\n",
    "    plt.ylabel(\"Noise to Signal Ratio $\\sigma(t) / s(t)$\")\n",
    "    plt.yscale(\"log\")\n",
    "    plt.xlim([1.05, -0.05])\n",
    "    plt.title(f\"(Log) Inference Noise Level for {formulation}\")\n",
    "    plt.grid()\n",
    "    plt.legend()\n",
    "\n",
    "    plt.subplot(1, 2, 2)\n",
    "    plt.plot(t_inverted, t_max + (t_min - t_max) * t, label=\"Time Uniform\")\n",
    "    for i, (label, formulation_data) in enumerate(formulations.items()):\n",
    "        plt.plot(t_inverted, nsr_inv(formulation_data), label=label, color=colors[i])\n",
    "    plt.xlabel(\"Normalized Timesteps\")\n",
    "    plt.ylabel(\"Absolute Timesteps\")\n",
    "    plt.xlim([1.05, -0.05])\n",
    "    plt.title(f\"Inference Timesteps for {formulation}\")\n",
    "    plt.grid()\n",
    "    plt.legend()\n",
    "\n",
    "    plt.show()\n"
   ]
  },
  {
   "cell_type": "code",
   "execution_count": null,
   "metadata": {},
   "outputs": [],
   "source": [
    "draw_inference_timesteps(0.5 * np.log(1 + 1e-4 ** 2), 0.5 * np.log(1 + 1e4 ** 2), \"Ornstein-Uhlenbeck\")"
   ]
  },
  {
   "cell_type": "code",
   "execution_count": null,
   "metadata": {},
   "outputs": [],
   "source": [
    "draw_inference_timesteps(1e-4, 1e4, \"EDM\")"
   ]
  },
  {
   "cell_type": "code",
   "execution_count": null,
   "metadata": {},
   "outputs": [],
   "source": [
    "draw_inference_timesteps(1e-4 / (1 + 1e-4), 1e4 / (1 + 1e4), \"Rectified Flow\")"
   ]
  }
 ],
 "metadata": {
  "kernelspec": {
   "display_name": "diffusion",
   "language": "python",
   "name": "python3"
  },
  "language_info": {
   "codemirror_mode": {
    "name": "ipython",
    "version": 3
   },
   "file_extension": ".py",
   "mimetype": "text/x-python",
   "name": "python",
   "nbconvert_exporter": "python",
   "pygments_lexer": "ipython3",
   "version": "3.11.9"
  }
 },
 "nbformat": 4,
 "nbformat_minor": 2
}
